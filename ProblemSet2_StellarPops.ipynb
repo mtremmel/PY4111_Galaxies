{
 "cells": [
  {
   "cell_type": "code",
   "execution_count": null,
   "id": "ce7a8b4c-5aaf-4cbc-9e49-e9313b597066",
   "metadata": {},
   "outputs": [],
   "source": [
    "# Third-party imports\n",
    "import numpy as np\n",
    "import matplotlib.pyplot as plt\n",
    "from astropy import units as u\n",
    "\n",
    "# Project import\n",
    "import artpop\n",
    "\n",
    "# artpop's matplotlib style\n",
    "plt.style.use(artpop.mpl_style)\n",
    "\n",
    "# use this random state for reproducibility\n",
    "rng = np.random.RandomState(122)\n",
    "\n",
    "plt.rcParams['figure.figsize'] = (12, 9) #set figure size\n"
   ]
  },
  {
   "cell_type": "markdown",
   "id": "0948b764-57d7-4cee-9202-e210b06329e2",
   "metadata": {},
   "source": [
    "<h3> Creating a Stellar Population </h3>"
   ]
  },
  {
   "cell_type": "code",
   "execution_count": null,
   "id": "1e1455a6-0eab-4fdd-941f-fb12282f9ac2",
   "metadata": {},
   "outputs": [],
   "source": [
    "# Example of initializing a stellar population\n",
    "# Note that you want enough stars to adequately sample the IMF \n",
    "# but not so much that you use a ton of memory!\n",
    "# Increasing num_stars will use more memory so be careful if you try to change this!\n",
    "\n",
    "ssp = artpop.MISTSSP(\n",
    "    log_age = 9,          # log of age in years \n",
    "    feh = 0,             # metallicity [Fe/H]\n",
    "    phot_system = 'LSST', # photometric system(s)\n",
    "    num_stars = 1e5,      # number of stars.\n",
    "    imf = 'salpeter',       # default imf\n",
    "    random_state = rng,   # random state for reproducibility\n",
    ")"
   ]
  },
  {
   "cell_type": "code",
   "execution_count": null,
   "id": "9e73a257-db44-4cac-83e0-dae888b11b5c",
   "metadata": {},
   "outputs": [],
   "source": [
    "# We can make an HR diagram (Luminosity vs Temperature) for our stars\n",
    "\n",
    "#These select different evolutionary phases\n",
    "\n",
    "MS = ssp.select_phase('MS') #Main Sequence\n",
    "RGB = ssp.select_phase('RGB') #Red Giant Branch\n",
    "AGB = ssp.select_phase('AGB') #Asymptotic Giant Branch\n",
    "\n",
    "#Plot L vs Temp, coloring each phase separately\n",
    "\n",
    "plt.plot(ssp.log_Teff[MS], ssp.log_L[MS], marker='o',ls='',\n",
    "         label='MS', c='tab:blue', mec='k')\n",
    "plt.plot(ssp.log_Teff[RGB], ssp.log_L[RGB], marker='o',ls='',\n",
    "         label='RGB + subgiant branch',\n",
    "         c='tab:green', mec='k')\n",
    "plt.plot(ssp.log_Teff[AGB], ssp.log_L[AGB], marker='o',ls='',\n",
    "         label='AGB', c='tab:red', mec='k')\n",
    "\n",
    "plt.legend(loc='lower left')\n",
    "plt.gca().invert_xaxis()\n",
    "plt.minorticks_on()\n",
    "plt.xlabel(r'$\\log(\\mathrm{T_{eff}/K})$')\n",
    "plt.ylabel(r'$\\log(\\mathrm{L/L_\\odot})$');"
   ]
  },
  {
   "cell_type": "markdown",
   "id": "0b35dc0a-c58d-4304-bce2-25e8c81f1ea8",
   "metadata": {},
   "source": [
    "<h3> Calculating the Mass-to-Light Ratio </h3>"
   ]
  },
  {
   "cell_type": "code",
   "execution_count": null,
   "id": "d5517a00-c500-418f-b895-6b66fe346bd7",
   "metadata": {},
   "outputs": [],
   "source": [
    "# Mass-to-Light Ratio\n",
    "# Total Mass M / Total Luminosity L\n",
    "# When done in terms of the total luminosity (rather than just one band) this is called\n",
    "# The BOLOMETRIC mass-to-light ratio\n",
    "\n",
    "mass_to_light = np.sum(ssp.star_masses) / np.sum(10**ssp.log_L)\n",
    "\n",
    "print(mass_to_light)"
   ]
  },
  {
   "cell_type": "code",
   "execution_count": 27,
   "id": "bc8b0d43-0e94-482f-b696-86eff9b49753",
   "metadata": {},
   "outputs": [
    {
     "name": "stdout",
     "output_type": "stream",
     "text": [
      "list of u-band magnitudes: [18.58289929 15.36870569 18.03560959 ... 15.81330171 17.20464547\n",
      " 17.10463934]\n",
      "number of u-band magnitudes we have (sane as num_stars!): 100000\n",
      "M/L in the LSST_u band: 0.7098129159485961\n",
      "M/L in the LSST_i band: 0.7347635619354883\n"
     ]
    }
   ],
   "source": [
    "# The mass to light ratio for different photometric bands\n",
    "# This dataset includes different bands that will be used in a future survey\n",
    "# Called the Legacy Survey of Space and Time to be performed with the Vera Rubin Observatory\n",
    "# Within the next 5 years or so\n",
    "\n",
    "# You can see the available bands like this (they are u, g, r, i, z, and y from bluest to reddest)\n",
    "# Note that \"abs\" stands for absolute so these are the true stellar magnitudes\n",
    "ssp.abs_mags.keys()\n",
    "\n",
    "# This is a dictionary, with each value representing a list of values corresponding to each of your stars\n",
    "# To access the u-band magnitudes you would simply do the following, inputting the appropriate string\n",
    "# in square brackets ([])\n",
    "\n",
    "print('list of u-band magnitudes:', ssp.abs_mags['LSST_u'])\n",
    "\n",
    "#Note that the length of the array should equal the number of stars\n",
    "\n",
    "print('number of u-band magnitudes we have (sane as num_stars!):', len(ssp.abs_mags['LSST_u']))\n",
    "\n",
    "\n",
    "# To calculate a mass-to-light ratio we need to sum up the contributions from each star\n",
    "# ArtPop can do this for us, but in terms of magnitudes\n",
    "\n",
    "mag_u_tot = ssp.total_mag('LSST_u')\n",
    "\n",
    "#Now we want to take this relative to the sun\n",
    "# recall that magnitudes m = -2.5log(f/frel)\n",
    "# So if we know msun m - msun = -2.5[log(f/fsun)] = -2.5log(L/Lsun)\n",
    "\n",
    "# In the LSST bands here are the values for the sun\n",
    "\n",
    "mag_sun = {'LSST_u': 6.27, 'LSST_g': 5.06, 'LSST_r': 4.64, \n",
    "           'LSST_i': 4.52, 'LSST_z': 4.51, 'LSST_y': 4.50}\n",
    "\n",
    "#So, we can apply this correction to the total magnitude\n",
    "\n",
    "mag_u_tot_sun = mag_u_tot - mag_sun['LSST_u']\n",
    "\n",
    "# Finally, we can convert this to a luminosity (in units of solar luminosity)\n",
    "\n",
    "Lum_u = 10**(mag_u_tot_sun/-2.5)\n",
    "\n",
    "# And now we can compare with the total mass for the ratio M/L\n",
    "\n",
    "print(\"M/L in the LSST_u band:\", np.sum(ssp.star_masses)/Lum_u)\n",
    "\n",
    "#Now we can try this in a different band, repeating the steps above but for the LSST_i band\n",
    "\n",
    "mag_i_tot = ssp.total_mag('LSST_i')\n",
    "mag_i_tot_sun = mag_i_tot - mag_sun['LSST_i']\n",
    "Lum_i = 10**(mag_i_tot_sun/-2.5)\n",
    "\n",
    "print(\"M/L in the LSST_i band:\", np.sum(ssp.star_masses)/Lum_i)\n",
    "\n",
    "\n"
   ]
  },
  {
   "cell_type": "markdown",
   "id": "be2df1ad-deda-41d0-9a70-e5ddf538b24f",
   "metadata": {},
   "source": [
    "<h3> Looking at how Mass-to-light ratio changes with age </h3>"
   ]
  },
  {
   "cell_type": "code",
   "execution_count": null,
   "id": "5b6a7e69-5b93-4404-99d1-2e950238bcd7",
   "metadata": {},
   "outputs": [],
   "source": [
    "# We can calculate stellar populations for different stellar ages by creating a \"GRID\"\n",
    "# of stellar populations, each sampling the same IMF but with different ages\n",
    "# each element of ssp_grid is a separate population of a different age\n",
    "# i.e. ssp_grid[2] will be the population with log(age) = 8\n",
    "\n",
    "ssp_grid = []\n",
    "log_age = [6,7,8,9,9.5,10]\n",
    "for i in range(len(log_age)):\n",
    "    ssp_grid.append(artpop.MISTSSP( #keep adding onto our grid as we loop through our chosen ages\n",
    "                    log_age = log_age[i],   # log of age in years, looping through the list above\n",
    "                    feh = 0,             # metallicity [Fe/H]\n",
    "                    phot_system = 'LSST', # photometric system(s)\n",
    "                    num_stars = 1e5,      # number of stars.\n",
    "                    imf = 'salpeter',       # default imf\n",
    "                    random_state = rng,   # random state for reproducibility\n",
    "                    ))\n"
   ]
  },
  {
   "cell_type": "code",
   "execution_count": null,
   "id": "84f7c366-7115-426b-9a07-d47db82894e6",
   "metadata": {},
   "outputs": [],
   "source": [
    "# Now we can calculate the total (or bolometric) mass to light ratio vs age\n",
    "\n",
    "mass_tot = np.zeros(len(ssp_grid)) #create arrays to store our data\n",
    "lum_tot = np.zeros(len(ssp_grid))\n",
    "for i in range(len(ssp_grid)): #Loop over our grid\n",
    "    mass_tot[i] = np.sum(ssp_grid[i].star_masses) #sum of all stellar masses \n",
    "    lum_tot[i] = np.sum(10**ssp_grid[i].log_L) #sum of all luminosities\n",
    "\n",
    "mtol = mass_tot/lum_tot #final step! M/L\n",
    "\n",
    "plt.plot(log_age, mtol, marker='o', ls='-') #now plot\n",
    "plt.yscale('log')\n",
    "plt.ylabel('Bolometric M/L')\n",
    "plt.xlabel('log Age [yr]')\n"
   ]
  },
  {
   "cell_type": "code",
   "execution_count": null,
   "id": "8294913c-a217-4e92-892f-cc240fd70316",
   "metadata": {},
   "outputs": [],
   "source": [
    "# We can understand a bit why this evolution occurs\n",
    "# By Plotting total mass and luminosity vs time\n",
    "# Note that the change in luminosity is driving this evolution!\n",
    "# It decreases by a factor of more than 1000 over 10 Gyr while\n",
    "# mass decreases by about 30%\n",
    "\n",
    "plt.plot(log_age, mass_tot/mass_tot[0], marker='o', ls='-', color='b')\n",
    "#plt.yscale('log')\n",
    "plt.ylim(0,1)\n",
    "plt.ylabel('M(t)/M(t=1e6)', color='b')\n",
    "plt.xlabel('log Age [yr]')\n",
    "plt.twinx()\n",
    "plt.plot(log_age, lum_tot/lum_tot[0], marker='^', ls='-',color='r')\n",
    "plt.yscale('log')\n",
    "plt.ylim(1e-4,1)\n",
    "plt.ylabel('L(t)/L(t=1e6)',color='r')\n",
    "plt.tick_params(axis='y')"
   ]
  },
  {
   "cell_type": "code",
   "execution_count": null,
   "id": "b32fc123-4d2c-4f49-b1ab-c1bd41eb1762",
   "metadata": {},
   "outputs": [],
   "source": [
    "# Now make a plot of the mass to light ratio in three different bands:\n",
    "# LSST_u, LSST_r, and LSST_i\n",
    "# Follow the same steps above. \n",
    "# In this case, you want to create three new luminosity arrays (the mass is the same)\n",
    "# Now your plot should have three lines with different colors. \n",
    "# Use the 'label' keyword in plot() to label with each band\n",
    "# (e.g. label='u-band') and don't forget to put in a legend with plt.legend().\n",
    "\n",
    "# Is there a difference? Which bands are less sensitive to stellar ages?\n",
    "\n",
    "#Don't forget to include these commands:\n",
    "#plt.legend() # create legend\n",
    "#plt.yscale('log') # scale y axis\n",
    "#plt.ylabel('M/L') # label both x and y axes\n",
    "#plt.xlabel('log Age [yr]')"
   ]
  },
  {
   "cell_type": "markdown",
   "id": "c247b947-a47a-4086-bd02-57281b54a514",
   "metadata": {},
   "source": [
    "<h3> Mass-to-light Ratio and IMF </h3>"
   ]
  },
  {
   "cell_type": "code",
   "execution_count": null,
   "id": "c7726c57-9c9f-4e65-b28a-10b9b7b4df80",
   "metadata": {},
   "outputs": [],
   "source": [
    "# Now we can see how the stellar populations change with Initial Mass Function\n",
    "# We wills tart by looking at populations that are 1 Gyr old and\n",
    "# making a GRID of IMF slopes\n",
    "\n",
    "alpha = [1.5,2.35,2.75,3.5,4.5] # here are our different slopes (dN/dM = M^-alpha)\n",
    "imf_ssp_grids = []\n",
    "for j in range(len(alpha)):\n",
    "    print('making SSP for alpha =', alpha[j], 'and age 1 Gyr')\n",
    "    imf_ssp_grids.append(artpop.MISTSSP(\n",
    "                log_age = 9,   # log of age in years, looping through the list above\n",
    "                feh = 0,             # metallicity [Fe/H]\n",
    "                phot_system = 'LSST', # photometric system(s)\n",
    "                num_stars = 1e5,      # number of stars.\n",
    "                imf = {'a':-1*alpha[j]},       # new imf slope!\n",
    "                random_state = rng,   # random state for reproducibility\n",
    "                ))"
   ]
  },
  {
   "cell_type": "code",
   "execution_count": null,
   "id": "a4e01700-b475-4aff-99cd-596d1ddc6271",
   "metadata": {},
   "outputs": [],
   "source": [
    "# Now we can calculate the total (or bolometric) mass to light ratio vs metalicity\n",
    "\n",
    "mass_tot = np.zeros(len(imf_ssp_grids)) #create arrays to store our data\n",
    "lum_tot = np.zeros(len(imf_ssp_grids))\n",
    "for i in range(len(imf_ssp_grids)): #Loop over our grid\n",
    "    mass_tot[i] = np.sum(imf_ssp_grids[i].star_masses) #sum of all stellar masses \n",
    "    lum_tot[i] = np.sum(10**imf_ssp_grids[i].log_L) #sum of all luminosities\n",
    "\n",
    "mtol = mass_tot/lum_tot #final step! M/L\n",
    "\n",
    "plt.plot(alpha, mtol, marker='o', ls='-') #now plot\n",
    "plt.yscale('log')\n",
    "plt.ylabel('Bolometric M/L')\n",
    "plt.xlabel('IMF Slope')"
   ]
  },
  {
   "cell_type": "code",
   "execution_count": null,
   "id": "83b5c331-e05c-46ef-94f8-d6204c2c2cb0",
   "metadata": {},
   "outputs": [],
   "source": [
    "# Create three new grids of stellar populations but for log age = 6, 8, and 10\n",
    "# Just copy and paste code used to make the different alpha models and re-do it for \n",
    "# The different ages (don't forget to give the variables different names!)\n",
    "\n",
    "#For example, here is one for log Age = 10 (10^10 years or 10 Gyrs)\n",
    "\n",
    "alpha = [1.5,2.35,2.75,3.5,4.5] # here are our different slopes (dN/dM = M^-alpha)\n",
    "imf_ssp_grids_10 = []\n",
    "for j in range(len(alpha)):\n",
    "    print('making SSP for alpha =', alpha[j], 'and age 10 Gyr')\n",
    "    imf_ssp_grids_10.append(artpop.MISTSSP(\n",
    "                log_age = 10,   # log of age in years, looping through the list above\n",
    "                feh = 0,             # metallicity [Fe/H]\n",
    "                phot_system = 'LSST', # photometric system(s)\n",
    "                num_stars = 1e5,      # number of stars.\n",
    "                imf = {'a':-1*alpha[j]},       # new imf slope!\n",
    "                random_state = rng,   # random state for reproducibility\n",
    "                ))\n",
    "    "
   ]
  },
  {
   "cell_type": "code",
   "execution_count": null,
   "id": "e0a7389a-faf6-4ad5-8f52-36affd2bc840",
   "metadata": {},
   "outputs": [],
   "source": [
    "# Then plot the results (M/L vs Alpha) for all four ages (log age = 6, 8, 9, and 10)\n",
    "# Your plot should have four lines, each a different color and each LABELED appropriately\n"
   ]
  },
  {
   "cell_type": "markdown",
   "id": "06108765-5086-4275-b6fe-cc6f3cb47235",
   "metadata": {},
   "source": [
    "<h3> Mass-to-light Ratio and Metalicity </h3>"
   ]
  },
  {
   "cell_type": "code",
   "execution_count": null,
   "id": "a8110d85-ae06-4f98-a754-34dab025df64",
   "metadata": {},
   "outputs": [],
   "source": [
    "# Similar to above, we can also examine how M/L changes with\n",
    "# the composition of our stars\n",
    "# The example below creates such a grid at age 10^9 years and alpha=2.35\n",
    "\n",
    "feh = [-2,-1,-0.5, 0.0, 0.5] # here are our different metalicities\n",
    "Z_ssp_grids = []\n",
    "for j in range(len(alpha)):\n",
    "    print('making SSP for Z =', feh[j], 'and age 1 Gyr')\n",
    "    Z_ssp_grids.append(artpop.MISTSSP(\n",
    "                log_age = 9,   # log of age in years, looping through the list above\n",
    "                feh = feh[j],             # metallicity [Fe/H]\n",
    "                phot_system = 'LSST', # photometric system(s)\n",
    "                num_stars = 1e5,      # number of stars.\n",
    "                imf = 'salpeter',       # new imf slope!\n",
    "                random_state = rng,   # random state for reproducibility\n",
    "                ))"
   ]
  },
  {
   "cell_type": "code",
   "execution_count": null,
   "id": "587be11a-e349-4f5a-8f8d-2b8e503396d9",
   "metadata": {},
   "outputs": [],
   "source": [
    "# Just as above, we can plot these values\n",
    "\n",
    "mass_tot = np.zeros(len(Z_ssp_grids)) #create arrays to store our data\n",
    "lum_tot = np.zeros(len(Z_ssp_grids))\n",
    "for i in range(len(Z_ssp_grids)): #Loop over our grid\n",
    "    mass_tot[i] = np.sum(Z_ssp_grids[i].star_masses) #sum of all stellar masses \n",
    "    lum_tot[i] = np.sum(10**Z_ssp_grids[i].log_L) #sum of all luminosities\n",
    "\n",
    "mtol = mass_tot/lum_tot #final step! M/L\n",
    "\n",
    "plt.plot(feh, mtol, marker='o', ls='-') #now plot\n",
    "plt.ylim(0,1)\n",
    "#plt.yscale('log')\n",
    "plt.ylabel('Bolometric M/L')\n",
    "plt.xlabel('Metalicity [Fe/h]')"
   ]
  },
  {
   "cell_type": "code",
   "execution_count": null,
   "id": "26b34710-088b-4393-8d11-0a1139080b14",
   "metadata": {},
   "outputs": [],
   "source": [
    "# Now create three new grids for log ages = 6, 8, and 10\n",
    "\n",
    "# Once again, to start you off, here is a grid for log age = 10\n",
    "feh = [-2,-1,-0.5, 0.0, 0.5] # here are our different metalicities\n",
    "Z_ssp_grids_10 = []\n",
    "for j in range(len(alpha)):\n",
    "    print('making SSP for feh =', feh[j], 'and age 10 Gyr')\n",
    "    Z_ssp_grids_10.append(artpop.MISTSSP(\n",
    "                log_age = 10,   # log of age in years, looping through the list above\n",
    "                feh = feh[j],             # metallicity [Fe/H]\n",
    "                phot_system = 'LSST', # photometric system(s)\n",
    "                num_stars = 1e5,      # number of stars.\n",
    "                imf = 'salpeter',       # new imf slope!\n",
    "                random_state = rng,   # random state for reproducibility\n",
    "                ))"
   ]
  },
  {
   "cell_type": "code",
   "execution_count": null,
   "id": "9374af02-27f6-4c2a-bdef-14723554d168",
   "metadata": {},
   "outputs": [],
   "source": [
    "# Then plot the results (M/L vs feh) for all four ages (log age = 6, 8, 9, and 10)\n",
    "# Your plot should have four lines, each a different color and each LABELED appropriately\n"
   ]
  },
  {
   "cell_type": "code",
   "execution_count": null,
   "id": "025c970b-9028-458a-afc7-7a870b4c7e47",
   "metadata": {},
   "outputs": [],
   "source": [
    "# You now have grids of IMF and metalicity for various population ages\n",
    "# Using these, examine the mass-to-light ratio in different bands\n",
    "# (remember the available bands are (in wavelength order low->high):\n",
    "# 'LSST_u', 'LSST_g', 'LSST_r', 'LSST_i', 'LSST_z', 'LSST_y'\n",
    "\n",
    "# Make plots to answer the following:\n",
    "# Which bandpasses are most/least sensitive to stellar age, IMF, and metalicity?\n",
    "\n",
    "# Note: Don't Forget to correctly label your axes and your lines!\n"
   ]
  },
  {
   "cell_type": "code",
   "execution_count": null,
   "id": "653e8ef0-cce8-4958-9247-1a241e832854",
   "metadata": {},
   "outputs": [],
   "source": [
    "# Consider now the colors produced by different stellar populations\n",
    "# Rather than luminosity you now want to examine the total magnitude of your stars\n",
    "# You can use the total_mag() function (see example above) to do this\n",
    "\n",
    "# Make plots to describe how colors change with age, IMF, and metalicity\n",
    "# Do this for U - R and G - I to start (you can add more if you wish)"
   ]
  }
 ],
 "metadata": {
  "kernelspec": {
   "display_name": "Python 3 (ipykernel)",
   "language": "python",
   "name": "python3"
  },
  "language_info": {
   "codemirror_mode": {
    "name": "ipython",
    "version": 3
   },
   "file_extension": ".py",
   "mimetype": "text/x-python",
   "name": "python",
   "nbconvert_exporter": "python",
   "pygments_lexer": "ipython3",
   "version": "3.10.4"
  }
 },
 "nbformat": 4,
 "nbformat_minor": 5
}
